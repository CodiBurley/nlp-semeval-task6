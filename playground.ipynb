{
 "cells": [
  {
   "cell_type": "code",
   "execution_count": 64,
   "metadata": {},
   "outputs": [],
   "source": [
    "import pandas\n",
    "import collections\n",
    "\n",
    "from nltk.tokenize import TweetTokenizer\n",
    "from keras.utils import to_categorical\n",
    "\n",
    "training_df = pandas.read_csv('trainingdata.txt', sep='\\t', encoding='latin1')\n",
    "STANCE = ['FAVOR', 'AGAINST', 'NONE']\n",
    "all_words = []\n",
    "\n",
    "for tweet in training_df['Tweet']:\n",
    "    all_words.extend(TweetTokenizer().tokenize(tweet))\n",
    "    \n",
    "\n",
    "def build_dataset(words, n_words):\n",
    "    \"\"\"Process raw inputs into a dataset.\"\"\"\n",
    "    count = [['UNK', -1]]\n",
    "    count.extend(collections.Counter(words).most_common(n_words - 1))\n",
    "    dictionary = dict()\n",
    "    for word, _ in count:\n",
    "        dictionary[word] = len(dictionary)\n",
    "    data = list()\n",
    "    unk_count = 0\n",
    "    for word in words:\n",
    "        if word in dictionary:\n",
    "            index = dictionary[word]\n",
    "        else:\n",
    "            index = 0  # dictionary['UNK']\n",
    "            unk_count += 1\n",
    "        data.append(index)\n",
    "    count[0][1] = unk_count\n",
    "    reversed_dictionary = dict(zip(dictionary.values(), dictionary.keys()))\n",
    "    return data, count, dictionary, reversed_dictionary\n",
    "\n",
    "\n",
    "def words_to_numbers(dictionary, word_arr):\n",
    "    for i, word in enumerate(word_arr):\n",
    "        word_arr[i] = dictionary[word] if word in dictionary else 0\n",
    "    return word_arr\n",
    "\n",
    "\n",
    "def get_stance_to_num(stance):\n",
    "    return STANCE.index(stance)\n",
    "\n",
    "\n",
    "def create_training_data(num_top_words):\n",
    "    data, count, dictionary, reversed_dictionary = build_dataset(all_words, num_top_words)\n",
    "    X_data = []\n",
    "    Y_data = []\n",
    "    for _, row in training_df.iterrows():\n",
    "        X_data.append(words_to_numbers(dictionary, TweetTokenizer().tokenize(row['Tweet'])))\n",
    "        Y_data.append([get_stance_to_num(row['Stance'])])\n",
    "    return X_data, to_categorical(Y_data, 3)"
   ]
  },
  {
   "cell_type": "markdown",
   "metadata": {},
   "source": [
    "### Create the training set\n",
    "\n",
    "Here we create the training set and pad it out to get everything prepped for the model"
   ]
  },
  {
   "cell_type": "code",
   "execution_count": 70,
   "metadata": {
    "collapsed": true
   },
   "outputs": [
    {
     "name": "stdout",
     "output_type": "stream",
     "text": [
      "[1709 1189  616  131   14   37    7  337    0 2026   26 1531 1189  194   38\n 1565   10  877   14   32  795  113 1649 2799 1261    1    0    0    0    0\n    0    0    0    0    0    0    0] [ 0.  1.  0.]\n"
     ]
    }
   ],
   "source": [
    "from keras.preprocessing import sequence\n",
    "\n",
    "num_top_words = 5000\n",
    "\n",
    "X_train, y_train = create_training_data(num_top_words)\n",
    "\n",
    "# Magic number that I computed so I can pad out the input arrays\n",
    "longest_row = 37\n",
    "# Lets pad those suckers out\n",
    "X_train = sequence.pad_sequences(X_train, maxlen=longest_row, padding='post')\n",
    "\n",
    "print(X_train[0], y_train[0])"
   ]
  },
  {
   "cell_type": "code",
   "execution_count": 72,
   "metadata": {},
   "outputs": [
    {
     "name": "stdout",
     "output_type": "stream",
     "text": [
      "_________________________________________________________________\nLayer (type)                 Output Shape              Param #   \n=================================================================\nembedding_6 (Embedding)      (None, 37, 32)            160000    \n_________________________________________________________________\nflatten_6 (Flatten)          (None, 1184)              0         \n_________________________________________________________________\ndense_11 (Dense)             (None, 250)               296250    \n_________________________________________________________________\ndense_12 (Dense)             (None, 3)                 753       \n=================================================================\nTotal params: 457,003\nTrainable params: 457,003\nNon-trainable params: 0\n_________________________________________________________________\nNone\n"
     ]
    },
    {
     "name": "stdout",
     "output_type": "stream",
     "text": [
      "Train on 1885 samples, validate on 929 samples\nEpoch 1/4\n"
     ]
    },
    {
     "name": "stdout",
     "output_type": "stream",
     "text": [
      "0s - loss: 0.6507 - acc: 0.6566 - val_loss: 0.6094 - val_acc: 0.6667\nEpoch 2/4\n0s - loss: 0.6164 - acc: 0.6683 - val_loss: 0.6000 - val_acc: 0.6685\nEpoch 3/4\n0s - loss: 0.5828 - acc: 0.6918 - val_loss: 0.5880 - val_acc: 0.6889\nEpoch 4/4\n"
     ]
    },
    {
     "name": "stdout",
     "output_type": "stream",
     "text": [
      "0s - loss: 0.5176 - acc: 0.7521 - val_loss: 0.5896 - val_acc: 0.6921\n"
     ]
    },
    {
     "data": {
      "text/plain": [
       "<keras.callbacks.History at 0x124a0e7b8>"
      ]
     },
     "execution_count": 72,
     "metadata": {},
     "output_type": "execute_result"
    }
   ],
   "source": [
    "import numpy\n",
    "from keras.models import Sequential\n",
    "from keras.layers import Dense\n",
    "from keras.layers import Flatten\n",
    "from keras.layers.embeddings import Embedding\n",
    "# fix random seed for reproducibility\n",
    "seed = 7\n",
    "numpy.random.seed(seed)\n",
    "\n",
    "# create the model\n",
    "model = Sequential()\n",
    "model.add(Embedding(num_top_words, 32, input_length=longest_row))\n",
    "model.add(Flatten())\n",
    "model.add(Dense(250, activation='relu'))\n",
    "model.add(Dense(3, activation='sigmoid'))\n",
    "model.compile(loss='binary_crossentropy', optimizer='adam', metrics=['accuracy'])\n",
    "print(model.summary())\n",
    "\n",
    "model.fit(X_train, y_train, validation_split=0.33, epochs=4, batch_size=128, verbose=2)"
   ]
  },
  {
   "cell_type": "code",
   "execution_count": null,
   "metadata": {},
   "outputs": [],
   "source": []
  }
 ],
 "metadata": {
  "kernelspec": {
   "display_name": "Python 3",
   "language": "python",
   "name": "python3"
  },
  "language_info": {
   "codemirror_mode": {
    "name": "ipython",
    "version": 3
   },
   "file_extension": ".py",
   "mimetype": "text/x-python",
   "name": "python",
   "nbconvert_exporter": "python",
   "pygments_lexer": "ipython3",
   "version": "3.5.4"
  }
 },
 "nbformat": 4,
 "nbformat_minor": 2
}
