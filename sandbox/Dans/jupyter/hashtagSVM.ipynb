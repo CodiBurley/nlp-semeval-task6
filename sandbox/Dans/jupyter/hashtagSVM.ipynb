{
 "cells": [
  {
   "cell_type": "code",
   "execution_count": 5,
   "metadata": {
    "collapsed": true
   },
   "outputs": [],
   "source": [
    "def listOfTopics(dataframe):\n",
    "    listOfTopics = []\n",
    "    for row in df['Target']:\n",
    "        if row not in listOfTopics:\n",
    "            listOfTopics.append(row)\n",
    "    return listOfTopics\n",
    "\n",
    "def yVec(text):\n",
    "    if text == 'AGAINST':\n",
    "        return -1\n",
    "    elif text == 'FAVOR':\n",
    "        return 1\n",
    "    else:\n",
    "        return 0\n",
    "\n",
    "\n",
    "import pandas\n",
    "df = pandas.read_csv('trainingData.txt', sep='\\t', encoding='latin1', index_col='ID')"
   ]
  },
  {
   "cell_type": "code",
   "execution_count": 6,
   "metadata": {},
   "outputs": [],
   "source": [
    "from sklearn.feature_extraction.text import CountVectorizer\n",
    "from nltk.tokenize import TweetTokenizer\n",
    "\n",
    "for topic in listOfTopics(df):\n",
    "    extract = df.loc[df['Target'] == topic]\n",
    "    corpus = []\n",
    "    Y = []\n",
    "    for index, row in extract.iterrows():\n",
    "        corpus.append(row['Tweet'][:-6])\n",
    "        Y.append(yVec(row['Stance']))\n",
    "    \n",
    "    ngram_vectorizer = CountVectorizer(ngram_range=(1, 7), analyzer='word', stop_words='english', min_df=20, tokenizer=lambda x: TweetTokenizer().tokenize(x))\n"
   ]
  },
  {
   "cell_type": "code",
   "execution_count": null,
   "metadata": {},
   "outputs": [],
   "source": []
  }
 ],
 "metadata": {
  "kernelspec": {
   "display_name": "Python 2",
   "language": "python",
   "name": "python2"
  },
  "language_info": {
   "codemirror_mode": {
    "name": "ipython",
    "version": 2
   },
   "file_extension": ".py",
   "mimetype": "text/x-python",
   "name": "python",
   "nbconvert_exporter": "python",
   "pygments_lexer": "ipython2",
   "version": "2.7.6"
  }
 },
 "nbformat": 4,
 "nbformat_minor": 0
}
